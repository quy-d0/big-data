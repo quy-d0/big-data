{
 "cells": [
  {
   "cell_type": "code",
   "execution_count": 1,
   "id": "677e8522",
   "metadata": {},
   "outputs": [
    {
     "name": "stdout",
     "output_type": "stream",
     "text": [
      "Start from Here\n"
     ]
    }
   ],
   "source": [
    "print(\"Start from Here\")\n"
   ]
  },
  {
   "cell_type": "markdown",
   "id": "7bbe13da",
   "metadata": {},
   "source": [
    "\n",
    "1. Open terminal from Jupyter Notebook \n",
    "2. Direct to the working director having the \"file\"\n",
    "- cd....\n",
    "\n",
    "3. To clone a folder from github to the local machine: \n",
    "\n",
    "3. Direct to the working director having the \"file\""
   ]
  }
 ],
 "metadata": {
  "kernelspec": {
   "display_name": "Python 3",
   "language": "python",
   "name": "python3"
  },
  "language_info": {
   "codemirror_mode": {
    "name": "ipython",
    "version": 3
   },
   "file_extension": ".py",
   "mimetype": "text/x-python",
   "name": "python",
   "nbconvert_exporter": "python",
   "pygments_lexer": "ipython3",
   "version": "3.8.8"
  }
 },
 "nbformat": 4,
 "nbformat_minor": 5
}
