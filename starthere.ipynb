{
 "cells": [
  {
   "cell_type": "code",
   "execution_count": 1,
   "id": "677e8522",
   "metadata": {},
   "outputs": [
    {
     "name": "stdout",
     "output_type": "stream",
     "text": [
      "Start from Here\n"
     ]
    }
   ],
   "source": [
    "print(\"Start from Here\")\n"
   ]
  },
  {
   "cell_type": "markdown",
   "id": "63e70759",
   "metadata": {},
   "source": [
    "\n",
    "1. Open terminal from Jupyter Notebook \n",
    "\n",
    "2. Direct to the working director having the \"file\": cd....\n",
    "\n",
    "3. To clone a folder from github to the local machine: git clone http://.......\n",
    "\n",
    "4. Add the new Python/R file created in the Jupiter notebook: git add starthere.ipynb\n",
    " \n",
    "5. Check the status: git status\n",
    "\n",
    "6. record the new changes to the file starthere: git commit -m \"all steps for using github\"\n",
    "\n",
    "7. To make a record of a change to the remote machine: git push\n",
    "\n",
    "8. To show the history of all activities: git log \n",
    "\n",
    "9. To make sure that local machine and remote machien are syntherized: \n",
    "- Make some changes from a file in GitHub\n",
    "- return to the terminal and check by GIT PULLL - pull changes from github to local machine \n",
    "\n"
   ]
  },
  {
   "cell_type": "code",
   "execution_count": 11,
   "id": "f3589d1f",
   "metadata": {},
   "outputs": [],
   "source": [
    "import pandas as pd\n",
    "import numpy as np\n",
    "import matplotlib.pyplot as plt\n",
    "\n",
    "%matplotlib inline\n",
    "\n",
    "ds1 = \"files/ds1.csv\"\n",
    " \n",
    "ds2 = \"files/ds2.csv\"\n",
    "\n",
    "ds3 = \"files/ds3.csv\""
   ]
  },
  {
   "cell_type": "code",
   "execution_count": 15,
   "id": "ae4d74e5",
   "metadata": {},
   "outputs": [
    {
     "data": {
      "text/html": [
       "<div>\n",
       "<style scoped>\n",
       "    .dataframe tbody tr th:only-of-type {\n",
       "        vertical-align: middle;\n",
       "    }\n",
       "\n",
       "    .dataframe tbody tr th {\n",
       "        vertical-align: top;\n",
       "    }\n",
       "\n",
       "    .dataframe thead th {\n",
       "        text-align: right;\n",
       "    }\n",
       "</style>\n",
       "<table border=\"1\" class=\"dataframe\">\n",
       "  <thead>\n",
       "    <tr style=\"text-align: right;\">\n",
       "      <th></th>\n",
       "      <th>name</th>\n",
       "    </tr>\n",
       "  </thead>\n",
       "  <tbody>\n",
       "    <tr>\n",
       "      <th>count</th>\n",
       "      <td>6.000000</td>\n",
       "    </tr>\n",
       "    <tr>\n",
       "      <th>mean</th>\n",
       "      <td>17.833333</td>\n",
       "    </tr>\n",
       "    <tr>\n",
       "      <th>std</th>\n",
       "      <td>16.557979</td>\n",
       "    </tr>\n",
       "    <tr>\n",
       "      <th>min</th>\n",
       "      <td>5.000000</td>\n",
       "    </tr>\n",
       "    <tr>\n",
       "      <th>25%</th>\n",
       "      <td>6.250000</td>\n",
       "    </tr>\n",
       "    <tr>\n",
       "      <th>50%</th>\n",
       "      <td>9.500000</td>\n",
       "    </tr>\n",
       "    <tr>\n",
       "      <th>75%</th>\n",
       "      <td>27.750000</td>\n",
       "    </tr>\n",
       "    <tr>\n",
       "      <th>max</th>\n",
       "      <td>44.000000</td>\n",
       "    </tr>\n",
       "  </tbody>\n",
       "</table>\n",
       "</div>"
      ],
      "text/plain": [
       "           name \n",
       "count   6.000000\n",
       "mean   17.833333\n",
       "std    16.557979\n",
       "min     5.000000\n",
       "25%     6.250000\n",
       "50%     9.500000\n",
       "75%    27.750000\n",
       "max    44.000000"
      ]
     },
     "execution_count": 15,
     "metadata": {},
     "output_type": "execute_result"
    }
   ],
   "source": [
    "ds1 = pd.read_csv(\"files/ds1.csv\")\n",
    "ds1.head()\n",
    "ds1.describe()"
   ]
  },
  {
   "cell_type": "code",
   "execution_count": 16,
   "id": "93f12454",
   "metadata": {},
   "outputs": [
    {
     "data": {
      "text/plain": [
       "<AxesSubplot:>"
      ]
     },
     "execution_count": 16,
     "metadata": {},
     "output_type": "execute_result"
    },
    {
     "data": {
      "image/png": "[encoded data removed]",
      "text/plain": [
       "<Figure size 432x288 with 1 Axes>"
      ]
     },
     "metadata": {
      "needs_background": "light"
     },
     "output_type": "display_data"
    }
   ],
   "source": [
    "ds1.plot()"
   ]
  },
  {
   "cell_type": "code",
   "execution_count": 18,
   "id": "fb460baf",
   "metadata": {},
   "outputs": [],
   "source": [
    "#ds1.plot.scatter()"
   ]
  },
  {
   "cell_type": "code",
   "execution_count": null,
   "id": "20503b11",
   "metadata": {},
   "outputs": [],
   "source": []
  }
 ],
 "metadata": {
  "kernelspec": {
   "display_name": "Python 3",
   "language": "python",
   "name": "python3"
  },
  "language_info": {
   "codemirror_mode": {
    "name": "ipython",
    "version": 3
   },
   "file_extension": ".py",
   "mimetype": "text/x-python",
   "name": "python",
   "nbconvert_exporter": "python",
   "pygments_lexer": "ipython3",
   "version": "3.8.8"
  }
 },
 "nbformat": 4,
 "nbformat_minor": 5
}
